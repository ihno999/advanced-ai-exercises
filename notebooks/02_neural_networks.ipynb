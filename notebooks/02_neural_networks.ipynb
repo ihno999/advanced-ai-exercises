{
  "cells": [
    {
      "cell_type": "markdown",
      "metadata": {},
      "source": [
        "# Neural Networks: A Foundational Introduction\n",
        "\n",
        "This lecture introduces neural networks, focusing on the fundamental concepts and building blocks.  We'll cover perceptrons, multi-layer perceptrons (MLPs), activation functions, backpropagation, and training. This foundation will be crucial for understanding more advanced topics like LLMs, Generative AI, Computer Vision, and Reinforcement Learning.\n",
        "\n",
        "**Prerequisites:** Familiarity with machine learning and supervised learning concepts.\n"
      ]
    },
    {
      "cell_type": "markdown",
      "metadata": {},
      "source": [
        "## Introduction and Motivation\n",
        "\n",
        "*   **Recap of supervised learning**\n",
        "*   **Neural networks** \n",
        "*   **Deep Learning Revolution**\n",
        "*   **Future Topics**"
      ]
    },
    {
      "cell_type": "markdown",
      "metadata": {},
      "source": [
        "### Supervised Learning Review\n",
        "\n",
        "As you already know, supervised learning is a fundamental branch of machine learning where we train a model on labeled data, meaning data with both inputs and desired outputs.  Our goal is to learn a mapping function that can accurately predict the output for new, unseen inputs. We've explored various algorithms like linear regression, logistic regression, support vector machines, and decision trees.  These methods have proven useful for many tasks, but they often rely heavily on feature engineering. This means we, as humans, need to carefully craft and select the right features from the raw data to feed into the model.  This process can be time-consuming, require domain expertise, and it's not always clear which features will be most effective. Furthermore, some algorithms struggle with highly complex, non-linear relationships in the data."
      ]
    },
    {
      "cell_type": "markdown",
      "metadata": {},
      "source": [
        "### Neural Networks\n",
        "\n",
        "Now, let's turn our attention to neural networks.  Neural networks offer a powerful and flexible alternative. They are inspired by the structure and function of the human brain, although they are, of course, vastly simplified. At their core, neural networks are function approximators.  Given some input, they learn to produce an output.  But unlike the algorithms we've seen before, neural networks have the remarkable ability to learn complex, non-linear relationships directly from the data without the need for explicit feature engineering.  They achieve this through interconnected layers of artificial neurons, allowing them to automatically discover and extract relevant features. This ability to learn hierarchical representations makes them incredibly versatile."
      ]
    },
    {
      "cell_type": "markdown",
      "metadata": {},
      "source": [
        "### Deep Learning\n",
        "Over the past decade, we've witnessed what's often called the 'deep learning revolution.' Deep learning, which refers to neural networks with multiple layers (hence 'deep'), has achieved groundbreaking results in a wide range of fields. Think about image recognition: self-driving cars, facial recognition, medical image analysis – all powered by deep learning. Natural language processing has also seen tremendous progress. We now have sophisticated chatbots, machine translation systems, and sentiment analysis tools, all thanks to deep learning. These are just a couple of examples.  Deep learning is transforming fields like robotics, drug discovery, finance, and many others."
      ]
    },
    {
      "cell_type": "markdown",
      "metadata": {},
      "source": [
        "### Future Topics\n",
        "\n",
        "The power of neural networks extends far beyond the examples I just mentioned. And, importantly for you, they form the bedrock for many of the topics you'll be exploring later in this course. Large Language Models (LLMs), like the ones powering advanced chatbots, are built upon neural network architectures.\n",
        "\n",
        "Generative AI (GenAI), which allows us to create realistic images, text, and even music, relies heavily on specialized neural networks.  Computer vision, the field that enables computers to 'see' and interpret images, uses convolutional neural networks. And even in reinforcement learning, where agents learn to make decisions through trial and error, neural networks are often used to approximate the optimal policy. So, understanding the fundamentals of neural networks that we'll cover today is absolutely essential for your future studies in these cutting-edge areas."
      ]
    },
    {
      "cell_type": "markdown",
      "metadata": {},
      "source": [
        "## Perceptron and Multi-Layer Perceptron (MLP) (15 minutes)\n",
        "\n",
        "*   **Perceptron:** Explain the structure of a perceptron (inputs, weights, bias, activation function) and how it performs linear classification.  Show a simple diagram.\n",
        "*   **Non-linearity:** Introduce the concept of non-linearity (e.g., sigmoid, ReLU) and its importance. Explain why a single perceptron can only classify linearly separable data.\n",
        "*   **MLP:** Introduce Multi-Layer Perceptrons (MLPs). Explain the concept of hidden layers and how they enable the network to learn non-linear relationships.  Show a diagram of an MLP.\n",
        "*   **Example:** Provide a simple example (e.g., classifying a simple dataset) to illustrate the concepts.\n"
      ]
    },
    {
      "cell_type": "code",
      "execution_count": null,
      "metadata": {},
      "outputs": [],
      "source": [
        "# Example code for Perceptron/MLP example (can be added here later)"
      ]
    },
    {
      "cell_type": "markdown",
      "metadata": {},
      "source": [
        "## Activation Functions and Backpropagation (15 minutes)\n",
        "\n",
        "*   **Activation Functions:** Discuss common activation functions (sigmoid, tanh, ReLU, Leaky ReLU) and their properties (advantages and disadvantages). Briefly mention why ReLU-based activations are often preferred.\n",
        "*   **Backpropagation:** Introduce backpropagation as the algorithm for training neural networks. Explain the chain rule of calculus and how it's used to compute gradients. Focus on the high-level idea of gradient descent.  Use diagrams to illustrate.\n",
        "*   **Loss Function:** Explain the role of the loss function (e.g., Mean Squared Error, Cross-Entropy) and how it guides the optimization process.\n"
      ]
    },
    {
      "cell_type": "markdown",
      "metadata": {},
      "source": [
        "## Training a Neural Network (15 minutes)\n",
        "\n",
        "*   **Training Process:** Explain the concepts of epochs, batch size, and learning rate.\n",
        "*   **Optimization Algorithms:** Discuss different optimization algorithms (e.g., Stochastic Gradient Descent (SGD), Adam). Emphasize Adam's popularity and ease of use.\n",
        "*   **Overfitting/Underfitting:** Mention overfitting and underfitting and how to address them (e.g., regularization, dropout, early stopping). Briefly introduce the idea of validation sets.\n",
        "*   **Visualization:** Show a simple animation or visualization of the training process (how the loss decreases and the network's predictions improve).\n"
      ]
    },
    {
      "cell_type": "markdown",
      "metadata": {},
      "source": [
        "## Neural Network Architectures (Brief Overview) (10 minutes)\n",
        "\n",
        "*   **Types of Networks:** Briefly touch upon different types of neural networks (CNNs for images, RNNs for sequences).  Don't go into detail as these will be covered later.\n",
        "*   **Motivation:** Explain the motivation behind these specialized architectures (e.g., convolutional kernels for image feature extraction, recurrent connections for handling time series).\n",
        "*   **Core Concepts:** Reiterate that the core concepts (activation functions, backpropagation, optimization) are the same across these different architectures.\n"
      ]
    },
    {
      "cell_type": "markdown",
      "metadata": {},
      "source": [
        "## Practical Exercise: Building and Training an MLP with PyTorch (45 minutes)\n",
        "\n",
        "**(5 minutes) Setup and Data Loading**\n",
        "\n",
        "*   Install PyTorch (if not already installed).  Provide installation instructions or a link to the PyTorch website.\n",
        "*   Provide a simple dataset (e.g., MNIST digits or a synthetic dataset).  Include code for loading the data.\n",
        "*   Show how to create data loaders using `torch.utils.data.DataLoader`.\n"
      ]
    },
    {
      "cell_type": "code",
      "execution_count": null,
      "metadata": {},
      "outputs": [],
      "source": [
        "# Code for data loading and preprocessing (e.g., MNIST)"
      ]
    },
    {
      "cell_type": "markdown",
      "metadata": {},
      "source": [
        "**(25 minutes) Building and Training an MLP with PyTorch**\n",
        "\n",
        "*   Guide students through building a simple MLP using `torch.nn.Module`.\n",
        "*   Explain how to define the layers (linear, activation functions) and the forward pass.\n",
        "*   Show how to choose a loss function (e.g., `torch.nn.CrossEntropyLoss`) and an optimizer (e.g., `torch.optim.Adam`).\n",
        "*   Provide a basic training loop and explain each step (forward pass, loss calculation, backpropagation, optimization step).\n",
        "*   Have students run the code and observe the training progress (loss curve).\n"
      ]
    },
    {
      "cell_type": "code",
      "execution_count": null,
      "metadata": {},
      "outputs": [],
      "source": [
        "# Code for building and training the MLP"
      ]
    },
    {
      "cell_type": "markdown",
      "metadata": {},
      "source": [
        "**(15 minutes) Experimentation and Analysis**\n",
        "\n",
        "*   Encourage students to experiment with different hyperparameters (e.g., number of hidden layers, number of neurons per layer, learning rate, batch size, activation functions).\n",
        "*   Have them observe the effects of these changes on the training process and the model's performance.\n",
        "*   Guide them to analyze their results (e.g., plot the loss curves, evaluate accuracy on a validation set).\n",
        "*   Discuss how to choose appropriate hyperparameters (briefly introduce the concept of hyperparameter tuning).\n"
      ]
    },
    {
      "cell_type": "code",
      "execution_count": null,
      "metadata": {},
      "outputs": [],
      "source": [
        "# Code for experimentation and analysis (e.g., plotting loss curves)"
      ]
    }
  ],
  "metadata": {
    "kernelspec": {
      "display_name": "Python 3",
      "language": "python",
      "name": "python3"
    },
    "language_info": {
      "codemirror_mode": {
        "name": "ipython",
        "version": 3
      },
      "file_extension": ".py",
      "mimetype": "text/x-python",
      "name": "python",
      "nbconvert_exporter": "python",
      "pygments_lexer": "ipython3",
      "version": "3.9.7"
    }
  },
  "nbformat": 4,
  "nbformat_minor": 4
}
